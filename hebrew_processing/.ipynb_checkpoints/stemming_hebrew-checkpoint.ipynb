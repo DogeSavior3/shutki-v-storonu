{
 "cells": [
  {
   "cell_type": "code",
   "execution_count": 1,
   "id": "a62380c5",
   "metadata": {},
   "outputs": [
    {
     "name": "stdout",
     "output_type": "stream",
     "text": [
      "Collecting greek-stemmer-pos\n",
      "  Downloading greek_stemmer_pos-1.1.2-py3-none-any.whl.metadata (5.7 kB)\n",
      "Requirement already satisfied: pytest in /Library/Frameworks/Python.framework/Versions/3.10/lib/python3.10/site-packages (from greek-stemmer-pos) (8.3.3)\n",
      "Collecting pytest-cov (from greek-stemmer-pos)\n",
      "  Downloading pytest_cov-6.0.0-py3-none-any.whl.metadata (27 kB)\n",
      "Requirement already satisfied: iniconfig in /Library/Frameworks/Python.framework/Versions/3.10/lib/python3.10/site-packages (from pytest->greek-stemmer-pos) (2.0.0)\n",
      "Requirement already satisfied: packaging in /Library/Frameworks/Python.framework/Versions/3.10/lib/python3.10/site-packages (from pytest->greek-stemmer-pos) (23.1)\n",
      "Requirement already satisfied: pluggy<2,>=1.5 in /Library/Frameworks/Python.framework/Versions/3.10/lib/python3.10/site-packages (from pytest->greek-stemmer-pos) (1.5.0)\n",
      "Requirement already satisfied: exceptiongroup>=1.0.0rc8 in /Library/Frameworks/Python.framework/Versions/3.10/lib/python3.10/site-packages (from pytest->greek-stemmer-pos) (1.2.2)\n",
      "Requirement already satisfied: tomli>=1 in /Library/Frameworks/Python.framework/Versions/3.10/lib/python3.10/site-packages (from pytest->greek-stemmer-pos) (2.1.0)\n",
      "Collecting coverage>=7.5 (from coverage[toml]>=7.5->pytest-cov->greek-stemmer-pos)\n",
      "  Downloading coverage-7.6.8-cp310-cp310-macosx_11_0_arm64.whl.metadata (8.2 kB)\n",
      "Downloading greek_stemmer_pos-1.1.2-py3-none-any.whl (19 kB)\n",
      "Downloading pytest_cov-6.0.0-py3-none-any.whl (22 kB)\n",
      "Downloading coverage-7.6.8-cp310-cp310-macosx_11_0_arm64.whl (207 kB)\n",
      "Installing collected packages: coverage, pytest-cov, greek-stemmer-pos\n",
      "Successfully installed coverage-7.6.8 greek-stemmer-pos-1.1.2 pytest-cov-6.0.0\n"
     ]
    }
   ],
   "source": [
    "!pip install greek-stemmer-pos"
   ]
  },
  {
   "cell_type": "code",
   "execution_count": 1,
   "id": "fa2e119d",
   "metadata": {},
   "outputs": [],
   "source": [
    "import os\n",
    "from greek_stemmer import stemmer\n",
    "\n",
    "input_folder = \"cleaned\"\n",
    "output_folder = \"stemmed_hebrew_literature\"\n",
    "\n",
    "os.makedirs(output_folder, exist_ok=True)"
   ]
  },
  {
   "cell_type": "code",
   "execution_count": 2,
   "id": "89a3b5a0",
   "metadata": {},
   "outputs": [
    {
     "name": "stdout",
     "output_type": "stream",
     "text": [
      "Обработка завершена\n"
     ]
    }
   ],
   "source": [
    "def stem_text(text):\n",
    "    words = text.split()\n",
    "    stemmed_words = [stemmer.stem_word(word, 'VBG') for word in words]  # 'VBG' - Part of Speech\n",
    "    return ' '.join(stemmed_words)\n",
    "\n",
    "for filename in os.listdir(input_folder):\n",
    "    if filename.endswith(\".txt\"):\n",
    "        input_path = os.path.join(input_folder, filename)\n",
    "        output_path = os.path.join(output_folder, filename)\n",
    "        \n",
    "        with open(input_path, \"r\", encoding=\"utf-8\") as file:\n",
    "            text = file.read()\n",
    "        \n",
    "        stemmed_text = stem_text(text)\n",
    "        \n",
    "        with open(output_path, \"w\", encoding=\"utf-8\") as file:\n",
    "            file.write(stemmed_text)\n",
    "\n",
    "print(\"Обработка завершена\")"
   ]
  },
  {
   "cell_type": "code",
   "execution_count": null,
   "id": "7a8fcb06",
   "metadata": {},
   "outputs": [],
   "source": []
  }
 ],
 "metadata": {
  "kernelspec": {
   "display_name": "Python 3 (ipykernel)",
   "language": "python",
   "name": "python3"
  },
  "language_info": {
   "codemirror_mode": {
    "name": "ipython",
    "version": 3
   },
   "file_extension": ".py",
   "mimetype": "text/x-python",
   "name": "python",
   "nbconvert_exporter": "python",
   "pygments_lexer": "ipython3",
   "version": "3.10.2"
  }
 },
 "nbformat": 4,
 "nbformat_minor": 5
}
