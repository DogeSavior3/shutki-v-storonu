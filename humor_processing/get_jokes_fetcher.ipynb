{
 "cells": [
  {
   "cell_type": "code",
   "execution_count": 1,
   "id": "ecc88347",
   "metadata": {},
   "outputs": [
    {
     "name": "stdout",
     "output_type": "stream",
     "text": [
      "Файл 'all_jokes_files/extract_anekdots.txt' успешно обработан.\n"
     ]
    }
   ],
   "source": [
    "import re\n",
    "\n",
    "file_path = 'all_jokes_files/extract_anekdots.txt'\n",
    "\n",
    "with open(file_path, 'r') as file:\n",
    "    data = file.read()\n",
    "\n",
    "parts = data.split('\\n\\n')\n",
    "\n",
    "cleaned_parts = []\n",
    "for part in parts:\n",
    "    if part.strip():\n",
    "        cleaned_part = re.sub(r\"[^.,!?;:]\", '', part)\n",
    "        cleaned_parts.append(cleaned_part)\n",
    "\n",
    "cleaned_data = '\\n\\n'.join(cleaned_parts)\n",
    "\n",
    "with open(file_path, 'w') as file:\n",
    "    file.write(cleaned_data)\n",
    "\n",
    "print(f\"Файл '{file_path}' успешно обработан.\")"
   ]
  },
  {
   "cell_type": "code",
   "execution_count": 5,
   "id": "c73b3adb",
   "metadata": {},
   "outputs": [
    {
     "name": "stdout",
     "output_type": "stream",
     "text": [
      "Файл 'all_jokes_files/dataset.txt' успешно обработан.\n"
     ]
    }
   ],
   "source": [
    "import re\n",
    "\n",
    "file_path = 'all_jokes_files/dataset.txt'\n",
    "\n",
    "with open(file_path, 'r') as file:\n",
    "    data = file.read()\n",
    "\n",
    "parts = data.split('\\n\\n')\n",
    "\n",
    "cleaned_parts = []\n",
    "for part in parts:\n",
    "    if part.strip():\n",
    "        cleaned_part = re.sub(r\"[^.,!?;:\\s\\wа-яА-ЯёЁ]\", '', part)\n",
    "        cleaned_parts.append(cleaned_part)\n",
    "\n",
    "cleaned_data = '\\n\\n'.join(cleaned_parts)\n",
    "\n",
    "with open(file_path, 'w') as file:\n",
    "    file.write(cleaned_data)\n",
    "\n",
    "print(f\"Файл '{file_path}' успешно обработан.\")"
   ]
  },
  {
   "cell_type": "code",
   "execution_count": null,
   "id": "5f215606",
   "metadata": {},
   "outputs": [],
   "source": []
  }
 ],
 "metadata": {
  "kernelspec": {
   "display_name": "Python 3 (ipykernel)",
   "language": "python",
   "name": "python3"
  },
  "language_info": {
   "codemirror_mode": {
    "name": "ipython",
    "version": 3
   },
   "file_extension": ".py",
   "mimetype": "text/x-python",
   "name": "python",
   "nbconvert_exporter": "python",
   "pygments_lexer": "ipython3",
   "version": "3.10.2"
  }
 },
 "nbformat": 4,
 "nbformat_minor": 5
}
