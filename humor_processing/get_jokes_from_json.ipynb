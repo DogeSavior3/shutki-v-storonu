{
 "cells": [
  {
   "cell_type": "code",
   "execution_count": 33,
   "id": "d781bfcd",
   "metadata": {},
   "outputs": [],
   "source": [
    "import json\n",
    "\n",
    "with open('eng_jokes_1.json', 'r', encoding='utf-8') as file:\n",
    "    data = json.load(file)\n",
    "    \n",
    "jokes = ''\n",
    "for i in data:\n",
    "    jokes += (i['body'].replace('\\n', ' ') + '\\n\\n\\n')\n",
    "\n",
    "with open('eng_jokes_2.json', 'r', encoding='utf-8') as file:\n",
    "    data = json.load(file)\n",
    "\n",
    "for i in data:\n",
    "    jokes += (i['body'].replace('\\n', ' ') + '\\n\\n\\n')\n",
    "    \n",
    "with open('pure_eng_jokes.txt', 'w', encoding='utf-8') as out_file:\n",
    "    out_file.write(jokes)"
   ]
  },
  {
   "cell_type": "code",
   "execution_count": null,
   "id": "f6df97e6",
   "metadata": {},
   "outputs": [],
   "source": []
  }
 ],
 "metadata": {
  "kernelspec": {
   "display_name": "Python 3 (ipykernel)",
   "language": "python",
   "name": "python3"
  },
  "language_info": {
   "codemirror_mode": {
    "name": "ipython",
    "version": 3
   },
   "file_extension": ".py",
   "mimetype": "text/x-python",
   "name": "python",
   "nbconvert_exporter": "python",
   "pygments_lexer": "ipython3",
   "version": "3.10.2"
  }
 },
 "nbformat": 4,
 "nbformat_minor": 5
}
